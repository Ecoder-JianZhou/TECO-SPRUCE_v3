{
 "cells": [
  {
   "cell_type": "code",
   "execution_count": 2,
   "metadata": {},
   "outputs": [
    {
     "name": "stdout",
     "output_type": "stream",
     "text": [
      "['apple', 'banana,orange,grape']\n",
      "Original string: apple,banana,orange,grape\n",
      "New string: watermelon,banana,orange,grape\n"
     ]
    }
   ],
   "source": [
    "# 假设你有一个字符串保存在变量中\n",
    "original_string = \"apple,banana,orange,grape\"\n",
    "\n",
    "# 使用split()方法将字符串分割成两部分\n",
    "parts = original_string.split(\",\", 1)\n",
    "print(parts)\n",
    "\n",
    "# 获取分割后的第二部分，即逗号后面的内容\n",
    "second_part = parts[1]\n",
    "\n",
    "# 将第一个逗号之前的内容替换为你想要的内容\n",
    "replacement = \"watermelon\"\n",
    "\n",
    "# 构建替换后的字符串\n",
    "new_string = replacement + \",\" + second_part\n",
    "\n",
    "print(\"Original string:\", original_string)\n",
    "print(\"New string:\", new_string)\n"
   ]
  }
 ],
 "metadata": {
  "kernelspec": {
   "display_name": "spruce",
   "language": "python",
   "name": "python3"
  },
  "language_info": {
   "codemirror_mode": {
    "name": "ipython",
    "version": 3
   },
   "file_extension": ".py",
   "mimetype": "text/x-python",
   "name": "python",
   "nbconvert_exporter": "python",
   "pygments_lexer": "ipython3",
   "version": "3.11.4"
  }
 },
 "nbformat": 4,
 "nbformat_minor": 2
}
